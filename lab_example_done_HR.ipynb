{
 "cells": [
  {
   "cell_type": "markdown",
   "metadata": {},
   "source": [
    "# OPAN5505 Lab 3 Assignment\n",
    "\n",
    "## Background\n",
    "\n",
    "You've been engaged by the Federal Aviation Administration to perform an analysis on \"strike\" data. A \"strike\" refers to when an aircraft and an object within the air (typically wildlife) collide."
   ]
  },
  {
   "cell_type": "markdown",
   "metadata": {},
   "source": [
    "## Prepare your environment\n",
    "\n",
    "You will need the `polars` package for this assignment. We'll also use `datetime` for date handling."
   ]
  },
  {
   "cell_type": "code",
   "execution_count": null,
   "metadata": {},
   "outputs": [],
   "source": [
    "# Import required libraries\n",
    "import polars as pl\n",
    "from datetime import datetime, date\n"
   ]
  },
  {
   "cell_type": "markdown",
   "metadata": {},
   "source": [
    "## Load your dataset\n",
    "\n",
    "Read the `faa_strikes.txt` dataset into Polars. Name the resulting DataFrame `strikes`."
   ]
  },
  {
   "cell_type": "code",
   "execution_count": null,
   "metadata": {},
   "outputs": [],
   "source": [
    "# Read the faa_strikes.txt data\n",
    "\n",
    "strikes = pl.read_csv('faa_strikes.txt', separator='\t', null_values=['NA'])\n",
    "strikes\n"
   ]
  },
  {
   "cell_type": "markdown",
   "metadata": {},
   "source": [
    "## Question 1: Running total of strikes by day through 2013\n",
    "\n",
    "You are interested in seeing the running total of strikes over time (`Collision Date and Time`) on a daily basis. Using the `strikes` dataframe, create a new column that removes the time information but keeps the date information from the `Collision Date and Time` column (call this new field `date`). Next, aggregate the `Number of Strikes` by day (call this new field `daily_strikes`). Sort the data in ascending order by `date`. Then, create the running total of `daily_strikes` (name the new field `strikes_cumulative`) and filter to only the records **up to and including** the `date` of 2013-12-31. Name the resulting data frame `running_total_strikes`.\n",
    "\n",
    "*Please place a Python code block and code below. The output should be a DataFrame. You must use a window function to receive credit on this question.*"
   ]
  },
  {
   "cell_type": "code",
   "execution_count": null,
   "metadata": {},
   "outputs": [],
   "source": [
    "\n",
    "# create a date column from the collision timestamp\n",
    "running_total_strikes = (\n",
    "    strikes\n",
    "    .with_columns(\n",
    "        # Parse the collision date time string into a  polars datetime and then extract the ddate\n",
    "        pl.col(\"Collision Date and Time\")\n",
    "        .str.strptime(pl.Datetime, format=\"%Y-%m-%dT%H:%M:%SZ\", strict=False)\n",
    "        .dt.date()\n",
    "        .alias(\"date\")\n",
    "    )\n",
    "    # the number of strikes by date\n",
    "    .group_by(\"date\")\n",
    "    .agg(\n",
    "        pl.col(\"Number of Strikes\").sum().alias(\"daily_strikes\")\n",
    "    )\n",
    "    # the result by date in ascending order\n",
    "    .sort(\"date\")\n",
    "    # the running  total of daily strikes\n",
    "    .with_columns(\n",
    "        pl.col(\"daily_strikes\").cum_sum().alias(\"strikes_cumulative\")\n",
    "    )\n",
    "    # only dates up to and including 2013-12-31\n",
    "    .filter(\n",
    "        pl.col(\"date\") <= date(2013, 12, 31)\n",
    "    )\n",
    ")\n",
    "# resulting DataFrame\n",
    "running_total_strikes\n"
   ]
  },
  {
   "cell_type": "markdown",
   "metadata": {},
   "source": [
    "## Question 2: States with the third highest financial cost\n",
    "\n",
    "The FAA is interested in the financial cost of strikes for each `Origin State`. Using the `strikes` dataframe: first, sum `Cost: Total $` by `Origin State` (name the resulting column `damage`) then `rank` these states in order of which state had the most financial `damage` (name the new column with rank information, `ranking`). Next, filter to show the row with the third highest `ranking`. Use a window function to answer this question. Name the resulting dataframe `damage_state`.\n",
    "\n",
    "*Please place a Python code block and code below. The output should be a DataFrame. You must use a window function to receive credit on this question.*"
   ]
  },
  {
   "cell_type": "code",
   "execution_count": null,
   "metadata": {},
   "outputs": [],
   "source": [
    "\n",
    "# damage sum by Origin State and rank them from high to low\n",
    "damage_state = (\n",
    "    strikes\n",
    "    .group_by(\"Origin State\")\n",
    "    .agg(\n",
    "        # Sum the total cost; nulls are ignored\n",
    "        pl.col(\"Cost: Total $\").sum().alias(\"damage\")\n",
    "    )\n",
    "    # Rank by damage in descending order\n",
    "    .with_columns(\n",
    "        pl.col(\"damage\").rank(method=\"min\", descending=True).alias(\"ranking\")\n",
    "    )\n",
    "    # Filter for the third highest total damage\n",
    "    .filter(pl.col(\"ranking\") == 3)\n",
    ")\n",
    "damage_state\n"
   ]
  },
  {
   "cell_type": "markdown",
   "metadata": {},
   "source": [
    "## Question 3: What are the second costliest Species Groups for each Aircraft Type?\n",
    "\n",
    "The FAA wants to know if some species groups are more dangerous to particular types of aircraft. Using the `strikes` dataframe: first, sum financial damage (`Cost: Total $`) information by `Aircraft: Type` and `Wildlife: Species Group` (name the new field `damage`). Rank the rows within each `Aircraft: Type` based on the greatest amount of `damage`; when performing the ranking function, name the new column `ranking`. Return the rows that represent the `Wildlife: Species Group` values that caused the **second most** financial `damage` to each `Aircraft: Type`. Name the resulting dataframe `type_species`.\n",
    "\n",
    "*Please place a Python code block and code below. The output should be a DataFrame. You must use a ranking function to receive credit on this question.*"
   ]
  },
  {
   "cell_type": "code",
   "execution_count": null,
   "metadata": {},
   "outputs": [],
   "source": [
    "\n",
    "# cost sum by aircraft type and species group, then findd the second costliest group per type\n",
    "type_species = (\n",
    "    strikes\n",
    "    .group_by([\"Aircraft: Type\", \"Wildlife: Species Group\"])\n",
    "    .agg(\n",
    "        pl.col(\"Cost: Total $\").sum().alias(\"damage\")\n",
    "    )\n",
    "    # each aircraft type by damge in descending order\n",
    "    .with_columns(\n",
    "        pl.col(\"damage\")\n",
    "        .rank(method=\"min\", descending=True)\n",
    "        .over(\"Aircraft: Type\")\n",
    "        .alias(\"ranking\")\n",
    "    )\n",
    "    # select the rows corresponding to the second highest damage per Aircraft Type.\n",
    "    .filter(pl.col(\"ranking\") == 2)\n",
    ")\n",
    "type_species\n"
   ]
  },
  {
   "cell_type": "markdown",
   "metadata": {},
   "source": [
    "## Question 4: Which days had the greatest positive jump in strikes?\n",
    "\n",
    "The FAA wants to investigate which days had the largest increase in strikes from the previous day. Using the `strikes` dataframe: sum the `Number of Strikes` measure by day (note: not by day and time). You can use a similar technique from Question 1 to create a new column from `Collision Date and Time` without time information and with date information (name this column `date`). Next, compute the previous day's strikes using a window function (name the new column `previous_day`), and calculate the difference of strikes between the current day and the previous day (name the new column `delta_strikes`). Sort the resulting data by `delta_strikes` in descending order to find which days had the highest increase of strikes from the previous day. Name the resulting dataframe `greatest_strike_increase`.\n",
    "\n",
    "**Hint:** This code is more involved that other exercises, so I will explicitly name the steps to answer the question.\n",
    "\n",
    "1. Start with the `strikes` data frame\n",
    "2. Create a new column called `date` which removes the time information in the `Collision Date and Time` column\n",
    "3. Sum the `Number of Strikes` by `date`, and name the new column `daily_strikes`\n",
    "4. Sort by the `date` column in ascending order\n",
    "5. Create a new column called `previous_day` to calculate what the `daily_strikes` were in the previous day\n",
    "6. Create a new column called `delta_strikes` which subtracts `previous_day` from `daily_strikes`\n",
    "7. Sort in descending order by `delta_strikes`\n",
    "\n",
    "*Please place a Python code block and code below. The output should be a DataFrame. You must use a window function to receive credit on this question.*"
   ]
  },
  {
   "cell_type": "code",
   "execution_count": null,
   "metadata": {},
   "outputs": [],
   "source": [
    "\n",
    "# the days with the greatest positive jump in strikes across all aircraft\n",
    "greatest_strike_increase = (\n",
    "    strikes\n",
    "    # a date column without time\n",
    "    .with_columns(\n",
    "        pl.col(\"Collision Date and Time\")\n",
    "        .str.strptime(pl.Datetime, format=\"%Y-%m-%dT%H:%M:%SZ\", strict=False)\n",
    "        .dt.date()\n",
    "        .alias(\"date\")\n",
    "    )\n",
    "    # the number of strikes by date\n",
    "    .group_by(\"date\")\n",
    "    .agg(\n",
    "        pl.col(\"Number of Strikes\").sum().alias(\"daily_strikes\")\n",
    "    )\n",
    "    # Sort by date\n",
    "    .sort(\"date\")\n",
    "    # the previous days strikes using a window function \n",
    "    .with_columns(\n",
    "        pl.col(\"daily_strikes\").shift(1).alias(\"previous_day\")\n",
    "    )\n",
    "    # the difference between the current day and the previous day\n",
    "    .with_columns(\n",
    "        (pl.col(\"daily_strikes\") - pl.col(\"previous_day\")).alias(\"delta_strikes\")\n",
    "    )\n",
    "    # descending to find the greatest positive jump\n",
    "    .sort(\"delta_strikes\", descending=True)\n",
    ")\n",
    "greatest_strike_increase\n"
   ]
  },
  {
   "cell_type": "markdown",
   "metadata": {},
   "source": [
    "## Question 5: Which single day had the greatest increase in strikes for each `Aircraft: Type`?\n",
    "\n",
    "FAA was interested in the exercise from the last question but now wants to determine the largest delta between days for each `Aircraft: Type`. What are the days that had largest positive change in strikes for each `Aircraft: Type`? In order to answer this question, you will need to perform the exercise from Question 4, but this time include a grouping by `Aircraft: Type`. After grouping by `Aircraft: Type`, add a column called `ranking` and use a window function to determine the day with the largest increase in strikes from the previous day. Name the resulting data frame `greatest_strike_increase_type`\n",
    "\n",
    "NOTE: Helicopters are not struck with a high frequency and will not show up in your analysis; this is fine."
   ]
  },
  {
   "cell_type": "code",
   "execution_count": null,
   "metadata": {},
   "outputs": [],
   "source": [
    "\n",
    "# for each aircraft typ the day with the greatest increase in stikeds from the previous day\n",
    "greatest_strike_increase_type = (\n",
    "    strikes\n",
    "    # making date column without time\n",
    "    .with_columns(\n",
    "        pl.col(\"Collision Date and Time\")\n",
    "        .str.strptime(pl.Datetime, format=\"%Y-%m-%dT%H:%M:%SZ\", strict=False)\n",
    "        .dt.date()\n",
    "        .alias(\"date\")\n",
    "    )\n",
    "    # strikes by Aircraft Type and date.\n",
    "    .group_by([\"Aircraft: Type\", \"date\"])\n",
    "    .agg(\n",
    "        pl.col(\"Number of Strikes\").sum().alias(\"daily_strikes\")\n",
    "    )\n",
    "    # within each aircraft type by date\n",
    "    .sort([\"Aircraft: Type\", \"date\"])\n",
    "    # previous day's strikes per aircraft type\n",
    "    .with_columns(\n",
    "        pl.col(\"daily_strikes\")\n",
    "        .shift(1)\n",
    "        .over(\"Aircraft: Type\")\n",
    "        .alias(\"previous_day\")\n",
    "    )\n",
    "    # the daily difference\n",
    "    .with_columns(\n",
    "        (pl.col(\"daily_strikes\") - pl.col(\"previous_day\")).alias(\"delta_strikes\")\n",
    "    )\n",
    "    # delta within each aircraft type to identify the greatest increase.\n",
    "    .with_columns(\n",
    "        pl.col(\"delta_strikes\")\n",
    "        .rank(method=\"min\", descending=True)\n",
    "        .over(\"Aircraft: Type\")\n",
    "        .alias(\"ranking\")\n",
    "    )\n",
    "    # retain only the days with the greatest increase for each aircraft type\n",
    "    .filter(pl.col(\"ranking\") == 1)\n",
    ")\n",
    "greatest_strike_increase_type\n"
   ]
  }
 ],
 "metadata": {
  "kernelspec": {
   "display_name": "Python 3",
   "language": "python",
   "name": "python3"
  },
  "language_info": {
   "codemirror_mode": {
    "name": "ipython",
    "version": 3
   },
   "file_extension": ".py",
   "mimetype": "text/x-python",
   "name": "python",
   "nbconvert_exporter": "python",
   "pygments_lexer": "ipython3",
   "version": "3.8.0"
  }
 },
 "nbformat": 4,
 "nbformat_minor": 4
}
